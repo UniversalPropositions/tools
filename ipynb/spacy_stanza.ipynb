{
 "cells": [
  {
   "cell_type": "code",
   "execution_count": 1,
   "metadata": {},
   "outputs": [
    {
     "ename": "ModuleNotFoundError",
     "evalue": "No module named 'spacy'",
     "output_type": "error",
     "traceback": [
      "\u001b[1;31m---------------------------------------------------------------------------\u001b[0m",
      "\u001b[1;31mModuleNotFoundError\u001b[0m                       Traceback (most recent call last)",
      "\u001b[1;32m~\\AppData\\Local\\Temp/ipykernel_14324/3252941850.py\u001b[0m in \u001b[0;36m<module>\u001b[1;34m\u001b[0m\n\u001b[0;32m      1\u001b[0m \u001b[1;32mimport\u001b[0m \u001b[0mstanza\u001b[0m\u001b[1;33m\u001b[0m\u001b[1;33m\u001b[0m\u001b[0m\n\u001b[1;32m----> 2\u001b[1;33m \u001b[1;32mimport\u001b[0m \u001b[0mspacy\u001b[0m\u001b[1;33m\u001b[0m\u001b[1;33m\u001b[0m\u001b[0m\n\u001b[0m\u001b[0;32m      3\u001b[0m \u001b[1;33m\u001b[0m\u001b[0m\n\u001b[0;32m      4\u001b[0m \u001b[0mnlp\u001b[0m \u001b[1;33m=\u001b[0m \u001b[0mspacy_stanza\u001b[0m\u001b[1;33m.\u001b[0m\u001b[0mload_pipeline\u001b[0m\u001b[1;33m(\u001b[0m\u001b[1;34m\"en\"\u001b[0m\u001b[1;33m)\u001b[0m\u001b[1;33m\u001b[0m\u001b[1;33m\u001b[0m\u001b[0m\n\u001b[0;32m      5\u001b[0m \u001b[1;32mimport\u001b[0m \u001b[0mtorch\u001b[0m\u001b[1;33m\u001b[0m\u001b[1;33m\u001b[0m\u001b[0m\n",
      "\u001b[1;31mModuleNotFoundError\u001b[0m: No module named 'spacy'"
     ]
    }
   ],
   "source": [
    "import stanza\n",
    "import spacy_stanza\n",
    "\n",
    "nlp = spacy_stanza.load_pipeline(\"en\")\n",
    "import torch\n",
    "\n",
    "torch.set_num_threads(1)\n",
    "\n",
    "text = [\"This is a sentence.\"] * 100\n",
    "\n",
    "for doc in nlp.pipe(text, batch_size=50, n_process=2):\n",
    "    print(doc.is_parsed)"
   ]
  },
  {
   "cell_type": "code",
   "execution_count": 4,
   "metadata": {},
   "outputs": [
    {
     "name": "stdout",
     "output_type": "stream",
     "text": [
      "Requirement already satisfied: spacy in c:\\dev\\git\\stanza\\envs\\stanza\\lib\\site-packages (3.2.0)\n",
      "Requirement already satisfied: murmurhash<1.1.0,>=0.28.0 in c:\\dev\\git\\stanza\\envs\\stanza\\lib\\site-packages (from spacy) (1.0.6)\n",
      "Requirement already satisfied: requests<3.0.0,>=2.13.0 in c:\\dev\\git\\stanza\\envs\\stanza\\lib\\site-packages (from spacy) (2.26.0)\n",
      "Requirement already satisfied: pydantic!=1.8,!=1.8.1,<1.9.0,>=1.7.4 in c:\\dev\\git\\stanza\\envs\\stanza\\lib\\site-packages (from spacy) (1.8.2)\n",
      "Requirement already satisfied: thinc<8.1.0,>=8.0.12 in c:\\dev\\git\\stanza\\envs\\stanza\\lib\\site-packages (from spacy) (8.0.13)\n",
      "Requirement already satisfied: blis<0.8.0,>=0.4.0 in c:\\dev\\git\\stanza\\envs\\stanza\\lib\\site-packages (from spacy) (0.7.5)\n",
      "Requirement already satisfied: packaging>=20.0 in c:\\dev\\git\\stanza\\envs\\stanza\\lib\\site-packages (from spacy) (21.2)\n",
      "Requirement already satisfied: langcodes<4.0.0,>=3.2.0 in c:\\dev\\git\\stanza\\envs\\stanza\\lib\\site-packages (from spacy) (3.3.0)\n",
      "Requirement already satisfied: numpy>=1.15.0 in c:\\dev\\git\\stanza\\envs\\stanza\\lib\\site-packages (from spacy) (1.21.4)\n",
      "Requirement already satisfied: typer<0.5.0,>=0.3.0 in c:\\dev\\git\\stanza\\envs\\stanza\\lib\\site-packages (from spacy) (0.4.0)\n",
      "Requirement already satisfied: preshed<3.1.0,>=3.0.2 in c:\\dev\\git\\stanza\\envs\\stanza\\lib\\site-packages (from spacy) (3.0.6)\n",
      "Requirement already satisfied: cymem<2.1.0,>=2.0.2 in c:\\dev\\git\\stanza\\envs\\stanza\\lib\\site-packages (from spacy) (2.0.6)\n",
      "Requirement already satisfied: pathy>=0.3.5 in c:\\dev\\git\\stanza\\envs\\stanza\\lib\\site-packages (from spacy) (0.6.1)\n",
      "Requirement already satisfied: spacy-loggers<2.0.0,>=1.0.0 in c:\\dev\\git\\stanza\\envs\\stanza\\lib\\site-packages (from spacy) (1.0.1)\n",
      "Requirement already satisfied: catalogue<2.1.0,>=2.0.6 in c:\\dev\\git\\stanza\\envs\\stanza\\lib\\site-packages (from spacy) (2.0.6)\n",
      "Requirement already satisfied: setuptools in c:\\dev\\git\\stanza\\envs\\stanza\\lib\\site-packages (from spacy) (56.0.0)\n",
      "Requirement already satisfied: jinja2 in c:\\dev\\git\\stanza\\envs\\stanza\\lib\\site-packages (from spacy) (3.0.3)\n",
      "Requirement already satisfied: spacy-legacy<3.1.0,>=3.0.8 in c:\\dev\\git\\stanza\\envs\\stanza\\lib\\site-packages (from spacy) (3.0.8)\n",
      "Requirement already satisfied: tqdm<5.0.0,>=4.38.0 in c:\\dev\\git\\stanza\\envs\\stanza\\lib\\site-packages (from spacy) (4.62.3)\n",
      "Requirement already satisfied: srsly<3.0.0,>=2.4.1 in c:\\dev\\git\\stanza\\envs\\stanza\\lib\\site-packages (from spacy) (2.4.2)\n",
      "Requirement already satisfied: wasabi<1.1.0,>=0.8.1 in c:\\dev\\git\\stanza\\envs\\stanza\\lib\\site-packages (from spacy) (0.8.2)\n",
      "Requirement already satisfied: pyparsing<3,>=2.0.2 in c:\\dev\\git\\stanza\\envs\\stanza\\lib\\site-packages (from packaging>=20.0->spacy) (2.4.7)\n",
      "Requirement already satisfied: smart-open<6.0.0,>=5.0.0 in c:\\dev\\git\\stanza\\envs\\stanza\\lib\\site-packages (from pathy>=0.3.5->spacy) (5.2.1)\n",
      "Requirement already satisfied: typing-extensions>=3.7.4.3 in c:\\dev\\git\\stanza\\envs\\stanza\\lib\\site-packages (from pydantic!=1.8,!=1.8.1,<1.9.0,>=1.7.4->spacy) (3.10.0.2)\n",
      "Requirement already satisfied: urllib3<1.27,>=1.21.1 in c:\\dev\\git\\stanza\\envs\\stanza\\lib\\site-packages (from requests<3.0.0,>=2.13.0->spacy) (1.26.7)\n",
      "Requirement already satisfied: charset-normalizer~=2.0.0 in c:\\dev\\git\\stanza\\envs\\stanza\\lib\\site-packages (from requests<3.0.0,>=2.13.0->spacy) (2.0.7)\n",
      "Requirement already satisfied: idna<4,>=2.5 in c:\\dev\\git\\stanza\\envs\\stanza\\lib\\site-packages (from requests<3.0.0,>=2.13.0->spacy) (3.3)\n",
      "Requirement already satisfied: certifi>=2017.4.17 in c:\\dev\\git\\stanza\\envs\\stanza\\lib\\site-packages (from requests<3.0.0,>=2.13.0->spacy) (2021.10.8)\n",
      "Requirement already satisfied: colorama in c:\\dev\\git\\stanza\\envs\\stanza\\lib\\site-packages (from tqdm<5.0.0,>=4.38.0->spacy) (0.4.4)\n",
      "Requirement already satisfied: click<9.0.0,>=7.1.1 in c:\\dev\\git\\stanza\\envs\\stanza\\lib\\site-packages (from typer<0.5.0,>=0.3.0->spacy) (8.0.3)\n",
      "Requirement already satisfied: MarkupSafe>=2.0 in c:\\dev\\git\\stanza\\envs\\stanza\\lib\\site-packages (from jinja2->spacy) (2.0.1)\n"
     ]
    }
   ],
   "source": [
    "!pip install spacy"
   ]
  }
 ],
 "metadata": {
  "interpreter": {
   "hash": "fba808f48b9641a34d532c73532ea77f28557e44407c088a9f74dbe9b30d7baf"
  },
  "kernelspec": {
   "display_name": "Python 3.8.10 64-bit ('stanza': venv)",
   "language": "python",
   "name": "python3"
  },
  "language_info": {
   "codemirror_mode": {
    "name": "ipython",
    "version": 3
   },
   "file_extension": ".py",
   "mimetype": "text/x-python",
   "name": "python",
   "nbconvert_exporter": "python",
   "pygments_lexer": "ipython3",
   "version": "3.8.10"
  },
  "orig_nbformat": 4
 },
 "nbformat": 4,
 "nbformat_minor": 2
}

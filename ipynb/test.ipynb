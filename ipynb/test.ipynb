{
 "cells": [
  {
   "cell_type": "code",
   "execution_count": 8,
   "metadata": {},
   "outputs": [
    {
     "name": "stdout",
     "output_type": "stream",
     "text": [
      "['S', 'y', 't', 'u', 'a', 'c', 'j', 'a', '[UNK]', ' ', 'n', 'a', 'd', 'z', 'w', 'y', 'c', 'z', 'a', 'j', 'n', '.', ' ', 'T', 'o', ' ', 'p', 'r', 'a', 'w', 'd', 'a', ' ', ',', ' ', 'ż', 'e', ' ', '[UNK]', ' ', '[UNK]', 'U', 'n', 'i', 'a', ' ', 'E', 'u', 'r', 'o', 'p', 'e', 'j', 's', 'k', 'a']\n"
     ]
    }
   ],
   "source": [
    "def fix(sentence):\n",
    "    out_sen = []\n",
    "    for tok in sentence:\n",
    "        if \"\\\\x\" in repr(tok) or \"\\\\u\" in repr(tok):\n",
    "            out_sen.append('[UNK]')\n",
    "        else:\n",
    "            out_sen.append(tok)\n",
    "    return out_sen\n",
    "s2 = \"Sytuacja­ nadzwyczajn. To prawda , że ​ ​Unia Europejska\"\n",
    "print(fix(s2))"
   ]
  }
 ],
 "metadata": {
  "interpreter": {
   "hash": "4139eb20dec1f567cbc7c29ba2ce8fc5c368bab2e2a14d00b82c281e27c2a408"
  },
  "kernelspec": {
   "display_name": "Python 3.8.10 64-bit ('up2': venv)",
   "language": "python",
   "name": "python3"
  },
  "language_info": {
   "codemirror_mode": {
    "name": "ipython",
    "version": 3
   },
   "file_extension": ".py",
   "mimetype": "text/x-python",
   "name": "python",
   "nbconvert_exporter": "python",
   "pygments_lexer": "ipython3",
   "version": "3.8.10"
  },
  "orig_nbformat": 4
 },
 "nbformat": 4,
 "nbformat_minor": 2
}

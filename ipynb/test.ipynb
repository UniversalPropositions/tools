{
 "cells": [
  {
   "cell_type": "code",
   "execution_count": 3,
   "metadata": {},
   "outputs": [
    {
     "name": "stdout",
     "output_type": "stream",
     "text": [
      "Sytuacja nadzwyczajna. To prawda , że  Unia Europejska\n"
     ]
    }
   ],
   "source": [
    "def fix(sentence):\n",
    "    out = []\n",
    "    for tok in sentence:\n",
    "        if not \"\\\\x\" in repr(tok) and not \"\\\\u\" in repr(tok):\n",
    "            out.append(tok)\n",
    "    result = ''.join(out)\n",
    "    return result\n",
    "s2 = \"Sytuacja­ nadzwyczajna. To prawda , że ​ ​Unia Europejska\"\n",
    "print(fix(s2))"
   ]
  }
 ],
 "metadata": {
  "interpreter": {
   "hash": "4139eb20dec1f567cbc7c29ba2ce8fc5c368bab2e2a14d00b82c281e27c2a408"
  },
  "kernelspec": {
   "display_name": "Python 3.8.10 64-bit ('up2': venv)",
   "language": "python",
   "name": "python3"
  },
  "language_info": {
   "codemirror_mode": {
    "name": "ipython",
    "version": 3
   },
   "file_extension": ".py",
   "mimetype": "text/x-python",
   "name": "python",
   "nbconvert_exporter": "python",
   "pygments_lexer": "ipython3",
   "version": "3.8.10"
  },
  "orig_nbformat": 4
 },
 "nbformat": 4,
 "nbformat_minor": 2
}
